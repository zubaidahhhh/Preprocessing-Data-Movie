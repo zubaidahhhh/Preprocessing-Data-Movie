{
  "nbformat": 4,
  "nbformat_minor": 0,
  "metadata": {
    "colab": {
      "provenance": []
    },
    "kernelspec": {
      "name": "python3",
      "display_name": "Python 3"
    },
    "language_info": {
      "name": "python"
    }
  },
  "cells": [
    {
      "cell_type": "markdown",
      "source": [
        "**1. Memuat Data**"
      ],
      "metadata": {
        "id": "j29oU5ubZ2Hg"
      }
    },
    {
      "cell_type": "code",
      "execution_count": 275,
      "metadata": {
        "id": "oHDT7BXrcq3J"
      },
      "outputs": [],
      "source": [
        "#mengimport library yang diperlukan\n",
        "import pandas as pd\n",
        "import numpy as np"
      ]
    },
    {
      "cell_type": "code",
      "source": [
        "#Memuat dataset dari file CSV ke dalam DataFrame\n",
        "df = pd.read_csv('/content/movie_sample_dataset.csv')"
      ],
      "metadata": {
        "id": "fJDkoH-EdZ7H"
      },
      "execution_count": 276,
      "outputs": []
    },
    {
      "cell_type": "markdown",
      "source": [
        "# **2. Memeriksa data**"
      ],
      "metadata": {
        "id": "VTZ8k05EYI6o"
      }
    },
    {
      "cell_type": "code",
      "source": [
        "#Menampilkan beberapa baris pertama dari dataset untuk memahami struktur data\n",
        "df.head()"
      ],
      "metadata": {
        "colab": {
          "base_uri": "https://localhost:8080/",
          "height": 486
        },
        "id": "VzZX1dA1YEbr",
        "outputId": "7b6757ea-9461-42f4-9f35-7f4203bdc3bf"
      },
      "execution_count": 277,
      "outputs": [
        {
          "output_type": "execute_result",
          "data": {
            "text/plain": [
              "    color      director_name  duration        gross  \\\n",
              "0   Color    Martin Scorsese       240  116866727.0   \n",
              "1   Color        Shane Black       195  408992272.0   \n",
              "2  color   Quentin Tarantino       187   54116191.0   \n",
              "3   Color   Kenneth Lonergan       186      46495.0   \n",
              "4   Color      Peter Jackson       186  258355354.0   \n",
              "\n",
              "                                 genres                          movie_title  \\\n",
              "0          Biography|Comedy|Crime|Drama              The Wolf of Wall Street   \n",
              "1               Action|Adventure|Sci-Fi                           Iron Man 3   \n",
              "2  Crime|Drama|Mystery|Thriller|Western                    The Hateful Eight   \n",
              "3                                 Drama                             Margaret   \n",
              "4                     Adventure|Fantasy  The Hobbit: The Desolation of Smaug   \n",
              "\n",
              "   title_year language country       budget  imdb_score  \\\n",
              "0        2013  English     USA  100000000.0         8.2   \n",
              "1        2013  English     USA  200000000.0         7.2   \n",
              "2        2015  English     USA   44000000.0         7.9   \n",
              "3        2011  English     usa   14000000.0         6.5   \n",
              "4        2013  English     USA  225000000.0         7.9   \n",
              "\n",
              "                                              actors  movie_facebook_likes  \n",
              "0  Leonardo DiCaprio,Matthew McConaughey,Jon Favreau                138000  \n",
              "1          Robert Downey Jr.,Jon Favreau,Don Cheadle                 95000  \n",
              "2          Craig Stark,Jennifer Jason Leigh,Zoë Bell                114000  \n",
              "3        Matt Damon,Kieran Culkin,John Gallagher Jr.                     0  \n",
              "4              Aidan Turner,Adam Brown,James Nesbitt                 83000  "
            ],
            "text/html": [
              "\n",
              "  <div id=\"df-d93d294c-5309-4bce-82f2-280a3f5215c9\" class=\"colab-df-container\">\n",
              "    <div>\n",
              "<style scoped>\n",
              "    .dataframe tbody tr th:only-of-type {\n",
              "        vertical-align: middle;\n",
              "    }\n",
              "\n",
              "    .dataframe tbody tr th {\n",
              "        vertical-align: top;\n",
              "    }\n",
              "\n",
              "    .dataframe thead th {\n",
              "        text-align: right;\n",
              "    }\n",
              "</style>\n",
              "<table border=\"1\" class=\"dataframe\">\n",
              "  <thead>\n",
              "    <tr style=\"text-align: right;\">\n",
              "      <th></th>\n",
              "      <th>color</th>\n",
              "      <th>director_name</th>\n",
              "      <th>duration</th>\n",
              "      <th>gross</th>\n",
              "      <th>genres</th>\n",
              "      <th>movie_title</th>\n",
              "      <th>title_year</th>\n",
              "      <th>language</th>\n",
              "      <th>country</th>\n",
              "      <th>budget</th>\n",
              "      <th>imdb_score</th>\n",
              "      <th>actors</th>\n",
              "      <th>movie_facebook_likes</th>\n",
              "    </tr>\n",
              "  </thead>\n",
              "  <tbody>\n",
              "    <tr>\n",
              "      <th>0</th>\n",
              "      <td>Color</td>\n",
              "      <td>Martin Scorsese</td>\n",
              "      <td>240</td>\n",
              "      <td>116866727.0</td>\n",
              "      <td>Biography|Comedy|Crime|Drama</td>\n",
              "      <td>The Wolf of Wall Street</td>\n",
              "      <td>2013</td>\n",
              "      <td>English</td>\n",
              "      <td>USA</td>\n",
              "      <td>100000000.0</td>\n",
              "      <td>8.2</td>\n",
              "      <td>Leonardo DiCaprio,Matthew McConaughey,Jon Favreau</td>\n",
              "      <td>138000</td>\n",
              "    </tr>\n",
              "    <tr>\n",
              "      <th>1</th>\n",
              "      <td>Color</td>\n",
              "      <td>Shane Black</td>\n",
              "      <td>195</td>\n",
              "      <td>408992272.0</td>\n",
              "      <td>Action|Adventure|Sci-Fi</td>\n",
              "      <td>Iron Man 3</td>\n",
              "      <td>2013</td>\n",
              "      <td>English</td>\n",
              "      <td>USA</td>\n",
              "      <td>200000000.0</td>\n",
              "      <td>7.2</td>\n",
              "      <td>Robert Downey Jr.,Jon Favreau,Don Cheadle</td>\n",
              "      <td>95000</td>\n",
              "    </tr>\n",
              "    <tr>\n",
              "      <th>2</th>\n",
              "      <td>color</td>\n",
              "      <td>Quentin Tarantino</td>\n",
              "      <td>187</td>\n",
              "      <td>54116191.0</td>\n",
              "      <td>Crime|Drama|Mystery|Thriller|Western</td>\n",
              "      <td>The Hateful Eight</td>\n",
              "      <td>2015</td>\n",
              "      <td>English</td>\n",
              "      <td>USA</td>\n",
              "      <td>44000000.0</td>\n",
              "      <td>7.9</td>\n",
              "      <td>Craig Stark,Jennifer Jason Leigh,Zoë Bell</td>\n",
              "      <td>114000</td>\n",
              "    </tr>\n",
              "    <tr>\n",
              "      <th>3</th>\n",
              "      <td>Color</td>\n",
              "      <td>Kenneth Lonergan</td>\n",
              "      <td>186</td>\n",
              "      <td>46495.0</td>\n",
              "      <td>Drama</td>\n",
              "      <td>Margaret</td>\n",
              "      <td>2011</td>\n",
              "      <td>English</td>\n",
              "      <td>usa</td>\n",
              "      <td>14000000.0</td>\n",
              "      <td>6.5</td>\n",
              "      <td>Matt Damon,Kieran Culkin,John Gallagher Jr.</td>\n",
              "      <td>0</td>\n",
              "    </tr>\n",
              "    <tr>\n",
              "      <th>4</th>\n",
              "      <td>Color</td>\n",
              "      <td>Peter Jackson</td>\n",
              "      <td>186</td>\n",
              "      <td>258355354.0</td>\n",
              "      <td>Adventure|Fantasy</td>\n",
              "      <td>The Hobbit: The Desolation of Smaug</td>\n",
              "      <td>2013</td>\n",
              "      <td>English</td>\n",
              "      <td>USA</td>\n",
              "      <td>225000000.0</td>\n",
              "      <td>7.9</td>\n",
              "      <td>Aidan Turner,Adam Brown,James Nesbitt</td>\n",
              "      <td>83000</td>\n",
              "    </tr>\n",
              "  </tbody>\n",
              "</table>\n",
              "</div>\n",
              "    <div class=\"colab-df-buttons\">\n",
              "\n",
              "  <div class=\"colab-df-container\">\n",
              "    <button class=\"colab-df-convert\" onclick=\"convertToInteractive('df-d93d294c-5309-4bce-82f2-280a3f5215c9')\"\n",
              "            title=\"Convert this dataframe to an interactive table.\"\n",
              "            style=\"display:none;\">\n",
              "\n",
              "  <svg xmlns=\"http://www.w3.org/2000/svg\" height=\"24px\" viewBox=\"0 -960 960 960\">\n",
              "    <path d=\"M120-120v-720h720v720H120Zm60-500h600v-160H180v160Zm220 220h160v-160H400v160Zm0 220h160v-160H400v160ZM180-400h160v-160H180v160Zm440 0h160v-160H620v160ZM180-180h160v-160H180v160Zm440 0h160v-160H620v160Z\"/>\n",
              "  </svg>\n",
              "    </button>\n",
              "\n",
              "  <style>\n",
              "    .colab-df-container {\n",
              "      display:flex;\n",
              "      gap: 12px;\n",
              "    }\n",
              "\n",
              "    .colab-df-convert {\n",
              "      background-color: #E8F0FE;\n",
              "      border: none;\n",
              "      border-radius: 50%;\n",
              "      cursor: pointer;\n",
              "      display: none;\n",
              "      fill: #1967D2;\n",
              "      height: 32px;\n",
              "      padding: 0 0 0 0;\n",
              "      width: 32px;\n",
              "    }\n",
              "\n",
              "    .colab-df-convert:hover {\n",
              "      background-color: #E2EBFA;\n",
              "      box-shadow: 0px 1px 2px rgba(60, 64, 67, 0.3), 0px 1px 3px 1px rgba(60, 64, 67, 0.15);\n",
              "      fill: #174EA6;\n",
              "    }\n",
              "\n",
              "    .colab-df-buttons div {\n",
              "      margin-bottom: 4px;\n",
              "    }\n",
              "\n",
              "    [theme=dark] .colab-df-convert {\n",
              "      background-color: #3B4455;\n",
              "      fill: #D2E3FC;\n",
              "    }\n",
              "\n",
              "    [theme=dark] .colab-df-convert:hover {\n",
              "      background-color: #434B5C;\n",
              "      box-shadow: 0px 1px 3px 1px rgba(0, 0, 0, 0.15);\n",
              "      filter: drop-shadow(0px 1px 2px rgba(0, 0, 0, 0.3));\n",
              "      fill: #FFFFFF;\n",
              "    }\n",
              "  </style>\n",
              "\n",
              "    <script>\n",
              "      const buttonEl =\n",
              "        document.querySelector('#df-d93d294c-5309-4bce-82f2-280a3f5215c9 button.colab-df-convert');\n",
              "      buttonEl.style.display =\n",
              "        google.colab.kernel.accessAllowed ? 'block' : 'none';\n",
              "\n",
              "      async function convertToInteractive(key) {\n",
              "        const element = document.querySelector('#df-d93d294c-5309-4bce-82f2-280a3f5215c9');\n",
              "        const dataTable =\n",
              "          await google.colab.kernel.invokeFunction('convertToInteractive',\n",
              "                                                    [key], {});\n",
              "        if (!dataTable) return;\n",
              "\n",
              "        const docLinkHtml = 'Like what you see? Visit the ' +\n",
              "          '<a target=\"_blank\" href=https://colab.research.google.com/notebooks/data_table.ipynb>data table notebook</a>'\n",
              "          + ' to learn more about interactive tables.';\n",
              "        element.innerHTML = '';\n",
              "        dataTable['output_type'] = 'display_data';\n",
              "        await google.colab.output.renderOutput(dataTable, element);\n",
              "        const docLink = document.createElement('div');\n",
              "        docLink.innerHTML = docLinkHtml;\n",
              "        element.appendChild(docLink);\n",
              "      }\n",
              "    </script>\n",
              "  </div>\n",
              "\n",
              "\n",
              "    <div id=\"df-f1a33c2c-2ad2-482f-8b88-fa6a4e6b790c\">\n",
              "      <button class=\"colab-df-quickchart\" onclick=\"quickchart('df-f1a33c2c-2ad2-482f-8b88-fa6a4e6b790c')\"\n",
              "                title=\"Suggest charts\"\n",
              "                style=\"display:none;\">\n",
              "\n",
              "<svg xmlns=\"http://www.w3.org/2000/svg\" height=\"24px\"viewBox=\"0 0 24 24\"\n",
              "     width=\"24px\">\n",
              "    <g>\n",
              "        <path d=\"M19 3H5c-1.1 0-2 .9-2 2v14c0 1.1.9 2 2 2h14c1.1 0 2-.9 2-2V5c0-1.1-.9-2-2-2zM9 17H7v-7h2v7zm4 0h-2V7h2v10zm4 0h-2v-4h2v4z\"/>\n",
              "    </g>\n",
              "</svg>\n",
              "      </button>\n",
              "\n",
              "<style>\n",
              "  .colab-df-quickchart {\n",
              "      --bg-color: #E8F0FE;\n",
              "      --fill-color: #1967D2;\n",
              "      --hover-bg-color: #E2EBFA;\n",
              "      --hover-fill-color: #174EA6;\n",
              "      --disabled-fill-color: #AAA;\n",
              "      --disabled-bg-color: #DDD;\n",
              "  }\n",
              "\n",
              "  [theme=dark] .colab-df-quickchart {\n",
              "      --bg-color: #3B4455;\n",
              "      --fill-color: #D2E3FC;\n",
              "      --hover-bg-color: #434B5C;\n",
              "      --hover-fill-color: #FFFFFF;\n",
              "      --disabled-bg-color: #3B4455;\n",
              "      --disabled-fill-color: #666;\n",
              "  }\n",
              "\n",
              "  .colab-df-quickchart {\n",
              "    background-color: var(--bg-color);\n",
              "    border: none;\n",
              "    border-radius: 50%;\n",
              "    cursor: pointer;\n",
              "    display: none;\n",
              "    fill: var(--fill-color);\n",
              "    height: 32px;\n",
              "    padding: 0;\n",
              "    width: 32px;\n",
              "  }\n",
              "\n",
              "  .colab-df-quickchart:hover {\n",
              "    background-color: var(--hover-bg-color);\n",
              "    box-shadow: 0 1px 2px rgba(60, 64, 67, 0.3), 0 1px 3px 1px rgba(60, 64, 67, 0.15);\n",
              "    fill: var(--button-hover-fill-color);\n",
              "  }\n",
              "\n",
              "  .colab-df-quickchart-complete:disabled,\n",
              "  .colab-df-quickchart-complete:disabled:hover {\n",
              "    background-color: var(--disabled-bg-color);\n",
              "    fill: var(--disabled-fill-color);\n",
              "    box-shadow: none;\n",
              "  }\n",
              "\n",
              "  .colab-df-spinner {\n",
              "    border: 2px solid var(--fill-color);\n",
              "    border-color: transparent;\n",
              "    border-bottom-color: var(--fill-color);\n",
              "    animation:\n",
              "      spin 1s steps(1) infinite;\n",
              "  }\n",
              "\n",
              "  @keyframes spin {\n",
              "    0% {\n",
              "      border-color: transparent;\n",
              "      border-bottom-color: var(--fill-color);\n",
              "      border-left-color: var(--fill-color);\n",
              "    }\n",
              "    20% {\n",
              "      border-color: transparent;\n",
              "      border-left-color: var(--fill-color);\n",
              "      border-top-color: var(--fill-color);\n",
              "    }\n",
              "    30% {\n",
              "      border-color: transparent;\n",
              "      border-left-color: var(--fill-color);\n",
              "      border-top-color: var(--fill-color);\n",
              "      border-right-color: var(--fill-color);\n",
              "    }\n",
              "    40% {\n",
              "      border-color: transparent;\n",
              "      border-right-color: var(--fill-color);\n",
              "      border-top-color: var(--fill-color);\n",
              "    }\n",
              "    60% {\n",
              "      border-color: transparent;\n",
              "      border-right-color: var(--fill-color);\n",
              "    }\n",
              "    80% {\n",
              "      border-color: transparent;\n",
              "      border-right-color: var(--fill-color);\n",
              "      border-bottom-color: var(--fill-color);\n",
              "    }\n",
              "    90% {\n",
              "      border-color: transparent;\n",
              "      border-bottom-color: var(--fill-color);\n",
              "    }\n",
              "  }\n",
              "</style>\n",
              "\n",
              "      <script>\n",
              "        async function quickchart(key) {\n",
              "          const quickchartButtonEl =\n",
              "            document.querySelector('#' + key + ' button');\n",
              "          quickchartButtonEl.disabled = true;  // To prevent multiple clicks.\n",
              "          quickchartButtonEl.classList.add('colab-df-spinner');\n",
              "          try {\n",
              "            const charts = await google.colab.kernel.invokeFunction(\n",
              "                'suggestCharts', [key], {});\n",
              "          } catch (error) {\n",
              "            console.error('Error during call to suggestCharts:', error);\n",
              "          }\n",
              "          quickchartButtonEl.classList.remove('colab-df-spinner');\n",
              "          quickchartButtonEl.classList.add('colab-df-quickchart-complete');\n",
              "        }\n",
              "        (() => {\n",
              "          let quickchartButtonEl =\n",
              "            document.querySelector('#df-f1a33c2c-2ad2-482f-8b88-fa6a4e6b790c button');\n",
              "          quickchartButtonEl.style.display =\n",
              "            google.colab.kernel.accessAllowed ? 'block' : 'none';\n",
              "        })();\n",
              "      </script>\n",
              "    </div>\n",
              "\n",
              "    </div>\n",
              "  </div>\n"
            ],
            "application/vnd.google.colaboratory.intrinsic+json": {
              "type": "dataframe",
              "variable_name": "df",
              "summary": "{\n  \"name\": \"df\",\n  \"rows\": 99,\n  \"fields\": [\n    {\n      \"column\": \"color\",\n      \"properties\": {\n        \"dtype\": \"category\",\n        \"num_unique_values\": 3,\n        \"samples\": [\n          \"Color\",\n          \"color \",\n          \" Black and White\"\n        ],\n        \"semantic_type\": \"\",\n        \"description\": \"\"\n      }\n    },\n    {\n      \"column\": \"director_name\",\n      \"properties\": {\n        \"dtype\": \"string\",\n        \"num_unique_values\": 63,\n        \"samples\": [\n          \"David Ayer\",\n          \"Tony Gilroy\",\n          \"Martin Scorsese\"\n        ],\n        \"semantic_type\": \"\",\n        \"description\": \"\"\n      }\n    },\n    {\n      \"column\": \"duration\",\n      \"properties\": {\n        \"dtype\": \"number\",\n        \"std\": 72,\n        \"min\": -50,\n        \"max\": 650,\n        \"num_unique_values\": 39,\n        \"samples\": [\n          138,\n          135,\n          183\n        ],\n        \"semantic_type\": \"\",\n        \"description\": \"\"\n      }\n    },\n    {\n      \"column\": \"gross\",\n      \"properties\": {\n        \"dtype\": \"number\",\n        \"std\": 139950256.81859657,\n        \"min\": 41229.0,\n        \"max\": 623279547.0,\n        \"num_unique_values\": 85,\n        \"samples\": [\n          52474616.0,\n          116866727.0,\n          132550960.0\n        ],\n        \"semantic_type\": \"\",\n        \"description\": \"\"\n      }\n    },\n    {\n      \"column\": \"genres\",\n      \"properties\": {\n        \"dtype\": \"string\",\n        \"num_unique_values\": 56,\n        \"samples\": [\n          \"Biography|Comedy|Crime|Drama\",\n          \"Drama|Romance\",\n          \"Drama|Horror|Thriller\"\n        ],\n        \"semantic_type\": \"\",\n        \"description\": \"\"\n      }\n    },\n    {\n      \"column\": \"movie_title\",\n      \"properties\": {\n        \"dtype\": \"string\",\n        \"num_unique_values\": 91,\n        \"samples\": [\n          \"The Help\",\n          \"The Revenant\",\n          \"Avengers: Age of Ultron\"\n        ],\n        \"semantic_type\": \"\",\n        \"description\": \"\"\n      }\n    },\n    {\n      \"column\": \"title_year\",\n      \"properties\": {\n        \"dtype\": \"number\",\n        \"std\": 255,\n        \"min\": 202,\n        \"max\": 2016,\n        \"num_unique_values\": 9,\n        \"samples\": [\n          2016,\n          2015,\n          2014\n        ],\n        \"semantic_type\": \"\",\n        \"description\": \"\"\n      }\n    },\n    {\n      \"column\": \"language\",\n      \"properties\": {\n        \"dtype\": \"category\",\n        \"num_unique_values\": 1,\n        \"samples\": [\n          \"English\"\n        ],\n        \"semantic_type\": \"\",\n        \"description\": \"\"\n      }\n    },\n    {\n      \"column\": \"country\",\n      \"properties\": {\n        \"dtype\": \"category\",\n        \"num_unique_values\": 12,\n        \"samples\": [\n          \"Kyrgyzstan\"\n        ],\n        \"semantic_type\": \"\",\n        \"description\": \"\"\n      }\n    },\n    {\n      \"column\": \"budget\",\n      \"properties\": {\n        \"dtype\": \"number\",\n        \"std\": 77031692.48433194,\n        \"min\": 17350.0,\n        \"max\": 250000000.0,\n        \"num_unique_values\": 56,\n        \"samples\": [\n          100000000.0\n        ],\n        \"semantic_type\": \"\",\n        \"description\": \"\"\n      }\n    },\n    {\n      \"column\": \"imdb_score\",\n      \"properties\": {\n        \"dtype\": \"number\",\n        \"std\": 1.925513582443392,\n        \"min\": -7.5,\n        \"max\": 8.8,\n        \"num_unique_values\": 35,\n        \"samples\": [\n          3.0\n        ],\n        \"semantic_type\": \"\",\n        \"description\": \"\"\n      }\n    },\n    {\n      \"column\": \"actors\",\n      \"properties\": {\n        \"dtype\": \"string\",\n        \"num_unique_values\": 88,\n        \"samples\": [\n          \"Liam Neeson,Charlize Theron,Seth MacFarlane\"\n        ],\n        \"semantic_type\": \"\",\n        \"description\": \"\"\n      }\n    },\n    {\n      \"column\": \"movie_facebook_likes\",\n      \"properties\": {\n        \"dtype\": \"number\",\n        \"std\": 58108,\n        \"min\": 0,\n        \"max\": 349000,\n        \"num_unique_values\": 67,\n        \"samples\": [\n          72000\n        ],\n        \"semantic_type\": \"\",\n        \"description\": \"\"\n      }\n    }\n  ]\n}"
            }
          },
          "metadata": {},
          "execution_count": 277
        }
      ]
    },
    {
      "cell_type": "code",
      "source": [
        "#Menampilkan informasi umum tentang dataset yaitu jumlah baris dan kolom\n",
        "df.shape"
      ],
      "metadata": {
        "colab": {
          "base_uri": "https://localhost:8080/"
        },
        "id": "7pZnudfPdhcb",
        "outputId": "52a22e14-8a24-4f56-a7b7-f99a7123e0a3"
      },
      "execution_count": 278,
      "outputs": [
        {
          "output_type": "execute_result",
          "data": {
            "text/plain": [
              "(99, 13)"
            ]
          },
          "metadata": {},
          "execution_count": 278
        }
      ]
    },
    {
      "cell_type": "code",
      "source": [
        "#Menampilkan tipe data tiap kolomnya\n",
        "df.dtypes"
      ],
      "metadata": {
        "colab": {
          "base_uri": "https://localhost:8080/",
          "height": 491
        },
        "id": "Qvq3vUCAbolX",
        "outputId": "ec00ce79-f8cc-4083-a28b-b99f62e13419"
      },
      "execution_count": 279,
      "outputs": [
        {
          "output_type": "execute_result",
          "data": {
            "text/plain": [
              "color                    object\n",
              "director_name            object\n",
              "duration                  int64\n",
              "gross                   float64\n",
              "genres                   object\n",
              "movie_title              object\n",
              "title_year                int64\n",
              "language                 object\n",
              "country                  object\n",
              "budget                  float64\n",
              "imdb_score              float64\n",
              "actors                   object\n",
              "movie_facebook_likes      int64\n",
              "dtype: object"
            ],
            "text/html": [
              "<div>\n",
              "<style scoped>\n",
              "    .dataframe tbody tr th:only-of-type {\n",
              "        vertical-align: middle;\n",
              "    }\n",
              "\n",
              "    .dataframe tbody tr th {\n",
              "        vertical-align: top;\n",
              "    }\n",
              "\n",
              "    .dataframe thead th {\n",
              "        text-align: right;\n",
              "    }\n",
              "</style>\n",
              "<table border=\"1\" class=\"dataframe\">\n",
              "  <thead>\n",
              "    <tr style=\"text-align: right;\">\n",
              "      <th></th>\n",
              "      <th>0</th>\n",
              "    </tr>\n",
              "  </thead>\n",
              "  <tbody>\n",
              "    <tr>\n",
              "      <th>color</th>\n",
              "      <td>object</td>\n",
              "    </tr>\n",
              "    <tr>\n",
              "      <th>director_name</th>\n",
              "      <td>object</td>\n",
              "    </tr>\n",
              "    <tr>\n",
              "      <th>duration</th>\n",
              "      <td>int64</td>\n",
              "    </tr>\n",
              "    <tr>\n",
              "      <th>gross</th>\n",
              "      <td>float64</td>\n",
              "    </tr>\n",
              "    <tr>\n",
              "      <th>genres</th>\n",
              "      <td>object</td>\n",
              "    </tr>\n",
              "    <tr>\n",
              "      <th>movie_title</th>\n",
              "      <td>object</td>\n",
              "    </tr>\n",
              "    <tr>\n",
              "      <th>title_year</th>\n",
              "      <td>int64</td>\n",
              "    </tr>\n",
              "    <tr>\n",
              "      <th>language</th>\n",
              "      <td>object</td>\n",
              "    </tr>\n",
              "    <tr>\n",
              "      <th>country</th>\n",
              "      <td>object</td>\n",
              "    </tr>\n",
              "    <tr>\n",
              "      <th>budget</th>\n",
              "      <td>float64</td>\n",
              "    </tr>\n",
              "    <tr>\n",
              "      <th>imdb_score</th>\n",
              "      <td>float64</td>\n",
              "    </tr>\n",
              "    <tr>\n",
              "      <th>actors</th>\n",
              "      <td>object</td>\n",
              "    </tr>\n",
              "    <tr>\n",
              "      <th>movie_facebook_likes</th>\n",
              "      <td>int64</td>\n",
              "    </tr>\n",
              "  </tbody>\n",
              "</table>\n",
              "</div><br><label><b>dtype:</b> object</label>"
            ]
          },
          "metadata": {},
          "execution_count": 279
        }
      ]
    },
    {
      "cell_type": "code",
      "source": [
        "# replace \"?\" menjadi NaN\n",
        "df.replace(\"?\", np.nan, inplace = True)\n",
        "\n",
        "# cek banyaknya missing value pada masing-masing kolom\n",
        "print(df.isnull().sum())"
      ],
      "metadata": {
        "colab": {
          "base_uri": "https://localhost:8080/"
        },
        "id": "6ztd97ppd1I0",
        "outputId": "0b09736a-35e3-4f2d-89b3-d8deafa54548"
      },
      "execution_count": 280,
      "outputs": [
        {
          "output_type": "stream",
          "name": "stdout",
          "text": [
            "color                   11\n",
            "director_name           11\n",
            "duration                 0\n",
            "gross                    8\n",
            "genres                   1\n",
            "movie_title              0\n",
            "title_year               0\n",
            "language                 0\n",
            "country                  0\n",
            "budget                   4\n",
            "imdb_score               0\n",
            "actors                   0\n",
            "movie_facebook_likes     0\n",
            "dtype: int64\n"
          ]
        }
      ]
    },
    {
      "cell_type": "markdown",
      "source": [
        "**3. Membersihkan Data**\n",
        "\n",
        "Penanganan baris missing data di kolom \"Gross\" dan \"Budget\" berdasarkan row"
      ],
      "metadata": {
        "id": "Q8TqbkN-dbyc"
      }
    },
    {
      "cell_type": "code",
      "source": [
        "# simply drop whole row with NaN in \"budget\" column\n",
        "df.dropna(subset=[\"budget\"], axis=0, inplace=True)\n",
        "# simply drop whole row with NaN in \"gross\" column\n",
        "df.dropna(subset=[\"gross\"], axis=0, inplace=True)"
      ],
      "metadata": {
        "id": "Ox4O-ghogoTG"
      },
      "execution_count": 281,
      "outputs": []
    },
    {
      "cell_type": "code",
      "source": [
        "print(df.head())"
      ],
      "metadata": {
        "colab": {
          "base_uri": "https://localhost:8080/"
        },
        "id": "uJ9SviY-igjw",
        "outputId": "ebb4cf0a-58cf-46a9-bfa1-59eabb75ce17"
      },
      "execution_count": 282,
      "outputs": [
        {
          "output_type": "stream",
          "name": "stdout",
          "text": [
            "    color      director_name  duration        gross  \\\n",
            "0   Color    Martin Scorsese       240  116866727.0   \n",
            "1   Color        Shane Black       195  408992272.0   \n",
            "2  color   Quentin Tarantino       187   54116191.0   \n",
            "3   Color   Kenneth Lonergan       186      46495.0   \n",
            "4   Color      Peter Jackson       186  258355354.0   \n",
            "\n",
            "                                 genres                          movie_title  \\\n",
            "0          Biography|Comedy|Crime|Drama              The Wolf of Wall Street   \n",
            "1               Action|Adventure|Sci-Fi                           Iron Man 3   \n",
            "2  Crime|Drama|Mystery|Thriller|Western                    The Hateful Eight   \n",
            "3                                 Drama                             Margaret   \n",
            "4                     Adventure|Fantasy  The Hobbit: The Desolation of Smaug   \n",
            "\n",
            "   title_year language country       budget  imdb_score  \\\n",
            "0        2013  English     USA  100000000.0         8.2   \n",
            "1        2013  English     USA  200000000.0         7.2   \n",
            "2        2015  English     USA   44000000.0         7.9   \n",
            "3        2011  English     usa   14000000.0         6.5   \n",
            "4        2013  English     USA  225000000.0         7.9   \n",
            "\n",
            "                                              actors  movie_facebook_likes  \n",
            "0  Leonardo DiCaprio,Matthew McConaughey,Jon Favreau                138000  \n",
            "1          Robert Downey Jr.,Jon Favreau,Don Cheadle                 95000  \n",
            "2          Craig Stark,Jennifer Jason Leigh,Zoë Bell                114000  \n",
            "3        Matt Damon,Kieran Culkin,John Gallagher Jr.                     0  \n",
            "4              Aidan Turner,Adam Brown,James Nesbitt                 83000  \n"
          ]
        }
      ]
    },
    {
      "cell_type": "code",
      "source": [
        "# cek banyaknya missing value pada masing-masing kolom setelah membersihkan missing value kolom \"gross\" dan \"budget\"\n",
        "print(df.isnull().sum())"
      ],
      "metadata": {
        "colab": {
          "base_uri": "https://localhost:8080/"
        },
        "id": "OVZBms_DGKCl",
        "outputId": "0b8607ae-355a-400e-bd84-12dc62a981c1"
      },
      "execution_count": 283,
      "outputs": [
        {
          "output_type": "stream",
          "name": "stdout",
          "text": [
            "color                   10\n",
            "director_name           10\n",
            "duration                 0\n",
            "gross                    0\n",
            "genres                   1\n",
            "movie_title              0\n",
            "title_year               0\n",
            "language                 0\n",
            "country                  0\n",
            "budget                   0\n",
            "imdb_score               0\n",
            "actors                   0\n",
            "movie_facebook_likes     0\n",
            "dtype: int64\n"
          ]
        }
      ]
    },
    {
      "cell_type": "code",
      "source": [
        "#cek baris dan kolom setelah pembersihan missing value kolom \"gross\" dan \"budget\"\n",
        "df.shape"
      ],
      "metadata": {
        "colab": {
          "base_uri": "https://localhost:8080/"
        },
        "id": "_Bal944dHMGZ",
        "outputId": "9827d951-cb38-4e84-be74-8858ed17b009"
      },
      "execution_count": 284,
      "outputs": [
        {
          "output_type": "execute_result",
          "data": {
            "text/plain": [
              "(89, 13)"
            ]
          },
          "metadata": {},
          "execution_count": 284
        }
      ]
    },
    {
      "cell_type": "code",
      "source": [
        "#Mengatasi nilai tidak konsisten pada kolom \"color\"\n",
        "df[\"color\"] = df[\"color\"].str.strip().str.lower()\n",
        "\n",
        "#Mengecek nilai kolom \"color\"\n",
        "print(df[\"color\"].value_counts())"
      ],
      "metadata": {
        "colab": {
          "base_uri": "https://localhost:8080/"
        },
        "id": "KsLyu-1NH_yw",
        "outputId": "10e8a540-4cc2-4229-e586-1a6eb323025a"
      },
      "execution_count": 285,
      "outputs": [
        {
          "output_type": "stream",
          "name": "stdout",
          "text": [
            "color\n",
            "color              78\n",
            "black and white     1\n",
            "Name: count, dtype: int64\n"
          ]
        }
      ]
    },
    {
      "cell_type": "code",
      "source": [
        "#Menghapus nilai-nilai yang tidak standar\n",
        "df = df.dropna()"
      ],
      "metadata": {
        "id": "1DvqK7lfGIf7"
      },
      "execution_count": 286,
      "outputs": []
    },
    {
      "cell_type": "code",
      "source": [
        "# cek banyaknya missing value pada masing-masing kolom setelah penghapusan nilai tidak standar\n",
        "print(df.isnull().sum())"
      ],
      "metadata": {
        "colab": {
          "base_uri": "https://localhost:8080/"
        },
        "id": "wppWUcxDJqK9",
        "outputId": "6ca346b0-80e7-4f98-d955-845742ee09ff"
      },
      "execution_count": 287,
      "outputs": [
        {
          "output_type": "stream",
          "name": "stdout",
          "text": [
            "color                   0\n",
            "director_name           0\n",
            "duration                0\n",
            "gross                   0\n",
            "genres                  0\n",
            "movie_title             0\n",
            "title_year              0\n",
            "language                0\n",
            "country                 0\n",
            "budget                  0\n",
            "imdb_score              0\n",
            "actors                  0\n",
            "movie_facebook_likes    0\n",
            "dtype: int64\n"
          ]
        }
      ]
    },
    {
      "cell_type": "markdown",
      "source": [
        "**4. Transformasi Data**"
      ],
      "metadata": {
        "id": "5hbVlcA_KLDF"
      }
    },
    {
      "cell_type": "code",
      "source": [
        "#Cek kesesuaian tipe data kolom\n",
        "df.dtypes"
      ],
      "metadata": {
        "colab": {
          "base_uri": "https://localhost:8080/",
          "height": 491
        },
        "id": "dMvNR488KYub",
        "outputId": "5ced354d-c36f-4ead-ce98-d282c2ec1cae"
      },
      "execution_count": 288,
      "outputs": [
        {
          "output_type": "execute_result",
          "data": {
            "text/plain": [
              "color                    object\n",
              "director_name            object\n",
              "duration                  int64\n",
              "gross                   float64\n",
              "genres                   object\n",
              "movie_title              object\n",
              "title_year                int64\n",
              "language                 object\n",
              "country                  object\n",
              "budget                  float64\n",
              "imdb_score              float64\n",
              "actors                   object\n",
              "movie_facebook_likes      int64\n",
              "dtype: object"
            ],
            "text/html": [
              "<div>\n",
              "<style scoped>\n",
              "    .dataframe tbody tr th:only-of-type {\n",
              "        vertical-align: middle;\n",
              "    }\n",
              "\n",
              "    .dataframe tbody tr th {\n",
              "        vertical-align: top;\n",
              "    }\n",
              "\n",
              "    .dataframe thead th {\n",
              "        text-align: right;\n",
              "    }\n",
              "</style>\n",
              "<table border=\"1\" class=\"dataframe\">\n",
              "  <thead>\n",
              "    <tr style=\"text-align: right;\">\n",
              "      <th></th>\n",
              "      <th>0</th>\n",
              "    </tr>\n",
              "  </thead>\n",
              "  <tbody>\n",
              "    <tr>\n",
              "      <th>color</th>\n",
              "      <td>object</td>\n",
              "    </tr>\n",
              "    <tr>\n",
              "      <th>director_name</th>\n",
              "      <td>object</td>\n",
              "    </tr>\n",
              "    <tr>\n",
              "      <th>duration</th>\n",
              "      <td>int64</td>\n",
              "    </tr>\n",
              "    <tr>\n",
              "      <th>gross</th>\n",
              "      <td>float64</td>\n",
              "    </tr>\n",
              "    <tr>\n",
              "      <th>genres</th>\n",
              "      <td>object</td>\n",
              "    </tr>\n",
              "    <tr>\n",
              "      <th>movie_title</th>\n",
              "      <td>object</td>\n",
              "    </tr>\n",
              "    <tr>\n",
              "      <th>title_year</th>\n",
              "      <td>int64</td>\n",
              "    </tr>\n",
              "    <tr>\n",
              "      <th>language</th>\n",
              "      <td>object</td>\n",
              "    </tr>\n",
              "    <tr>\n",
              "      <th>country</th>\n",
              "      <td>object</td>\n",
              "    </tr>\n",
              "    <tr>\n",
              "      <th>budget</th>\n",
              "      <td>float64</td>\n",
              "    </tr>\n",
              "    <tr>\n",
              "      <th>imdb_score</th>\n",
              "      <td>float64</td>\n",
              "    </tr>\n",
              "    <tr>\n",
              "      <th>actors</th>\n",
              "      <td>object</td>\n",
              "    </tr>\n",
              "    <tr>\n",
              "      <th>movie_facebook_likes</th>\n",
              "      <td>int64</td>\n",
              "    </tr>\n",
              "  </tbody>\n",
              "</table>\n",
              "</div><br><label><b>dtype:</b> object</label>"
            ]
          },
          "metadata": {},
          "execution_count": 288
        }
      ]
    },
    {
      "cell_type": "code",
      "source": [
        "#tipe data sudah sesuai"
      ],
      "metadata": {
        "id": "LUBkC30id098"
      },
      "execution_count": 289,
      "outputs": []
    },
    {
      "cell_type": "code",
      "source": [
        "#Memisahkan genre yang bergabung dalam satu kolom menjadi beberapa kolom terpisah\n",
        "# buat dummy variable untuk semua genre\n",
        "df_genres_ohe = df['genres'].str.get_dummies(sep='|')\n",
        "\n",
        "# gabungkan ke dataframe asli, sehingga selanjutnya akan menggunakan data ini\n",
        "df_ohe = pd.concat([df, df_genres_ohe], axis=1)\n",
        "\n",
        "print(df_ohe.head(10))"
      ],
      "metadata": {
        "colab": {
          "base_uri": "https://localhost:8080/"
        },
        "id": "VM1MtgHvR7ms",
        "outputId": "5f64a763-be90-44c5-b330-db7c0f500691"
      },
      "execution_count": 290,
      "outputs": [
        {
          "output_type": "stream",
          "name": "stdout",
          "text": [
            "    color      director_name  duration        gross  \\\n",
            "0   color    Martin Scorsese       240  116866727.0   \n",
            "1   color        Shane Black       195  408992272.0   \n",
            "2   color  Quentin Tarantino       187   54116191.0   \n",
            "3   color   Kenneth Lonergan       186      46495.0   \n",
            "4   color      Peter Jackson       186  258355354.0   \n",
            "6   color      Peter Jackson       -50  303001229.0   \n",
            "8   color        Joss Whedon       173  623279547.0   \n",
            "9   color        Joss Whedon       173  623279547.0   \n",
            "11  color               Null       158  102515793.0   \n",
            "13  color  Christopher Nolan       169  187991439.0   \n",
            "\n",
            "                                  genres                          movie_title  \\\n",
            "0           Biography|Comedy|Crime|Drama              The Wolf of Wall Street   \n",
            "1                Action|Adventure|Sci-Fi                           Iron Man 3   \n",
            "2   Crime|Drama|Mystery|Thriller|Western                    The Hateful Eight   \n",
            "3                                  Drama                             Margaret   \n",
            "4                      Adventure|Fantasy  The Hobbit: The Desolation of Smaug   \n",
            "6                      Adventure|Fantasy    The Hobbit: An Unexpected Journey   \n",
            "8                Action|Adventure|Sci-Fi                         The Avengers   \n",
            "9                Action|Adventure|Sci-Fi                         The Avengers   \n",
            "11          Crime|Drama|Mystery|Thriller      The Girl with the Dragon Tattoo   \n",
            "13                Adventure|Drama|Sci-Fi                         Interstellar   \n",
            "\n",
            "    title_year language country       budget  ...  History Music  Musical  \\\n",
            "0         2013  English     USA  100000000.0  ...        0     0        0   \n",
            "1         2013  English     USA  200000000.0  ...        0     0        0   \n",
            "2         2015  English     USA   44000000.0  ...        0     0        0   \n",
            "3         2011  English     usa   14000000.0  ...        0     0        0   \n",
            "4         2013  English     USA  225000000.0  ...        0     0        0   \n",
            "6         2012  English     USA  180000000.0  ...        0     0        0   \n",
            "8         2012  English     USA  220000000.0  ...        0     0        0   \n",
            "9         2012  English     USA  220000000.0  ...        0     0        0   \n",
            "11        2011  English     USA   90000000.0  ...        0     0        0   \n",
            "13        2014  English     USA  165000000.0  ...        0     0        0   \n",
            "\n",
            "    Mystery  Romance  Sci-Fi  Sport  Thriller  War  Western  \n",
            "0         0        0       0      0         0    0        0  \n",
            "1         0        0       1      0         0    0        0  \n",
            "2         1        0       0      0         1    0        1  \n",
            "3         0        0       0      0         0    0        0  \n",
            "4         0        0       0      0         0    0        0  \n",
            "6         0        0       0      0         0    0        0  \n",
            "8         0        0       1      0         0    0        0  \n",
            "9         0        0       1      0         0    0        0  \n",
            "11        1        0       0      0         1    0        0  \n",
            "13        0        0       1      0         0    0        0  \n",
            "\n",
            "[10 rows x 30 columns]\n"
          ]
        }
      ]
    },
    {
      "cell_type": "code",
      "source": [
        "#Normalisasi teks untuk memastikan konsistensi, yaitu mengubah semua teks menjadi huruf kecil\n",
        "for col in df_ohe.select_dtypes(include='object').columns:\n",
        "    df_ohe[col] = df_ohe[col].str.strip().str.lower()\n",
        "    df_ohe.columns = df_ohe.columns.str.strip().str.lower()\n",
        "\n",
        "print(df_ohe.head(10))"
      ],
      "metadata": {
        "colab": {
          "base_uri": "https://localhost:8080/"
        },
        "id": "yghWyb4ETls-",
        "outputId": "417fff12-276f-46f9-b0f1-045d40f9513e"
      },
      "execution_count": 291,
      "outputs": [
        {
          "output_type": "stream",
          "name": "stdout",
          "text": [
            "    color      director_name  duration        gross  \\\n",
            "0   color    martin scorsese       240  116866727.0   \n",
            "1   color        shane black       195  408992272.0   \n",
            "2   color  quentin tarantino       187   54116191.0   \n",
            "3   color   kenneth lonergan       186      46495.0   \n",
            "4   color      peter jackson       186  258355354.0   \n",
            "6   color      peter jackson       -50  303001229.0   \n",
            "8   color        joss whedon       173  623279547.0   \n",
            "9   color        joss whedon       173  623279547.0   \n",
            "11  color               null       158  102515793.0   \n",
            "13  color  christopher nolan       169  187991439.0   \n",
            "\n",
            "                                  genres                          movie_title  \\\n",
            "0           biography|comedy|crime|drama              the wolf of wall street   \n",
            "1                action|adventure|sci-fi                           iron man 3   \n",
            "2   crime|drama|mystery|thriller|western                    the hateful eight   \n",
            "3                                  drama                             margaret   \n",
            "4                      adventure|fantasy  the hobbit: the desolation of smaug   \n",
            "6                      adventure|fantasy    the hobbit: an unexpected journey   \n",
            "8                action|adventure|sci-fi                         the avengers   \n",
            "9                action|adventure|sci-fi                         the avengers   \n",
            "11          crime|drama|mystery|thriller      the girl with the dragon tattoo   \n",
            "13                adventure|drama|sci-fi                         interstellar   \n",
            "\n",
            "    title_year language country       budget  ...  history music  musical  \\\n",
            "0         2013  english     usa  100000000.0  ...        0     0        0   \n",
            "1         2013  english     usa  200000000.0  ...        0     0        0   \n",
            "2         2015  english     usa   44000000.0  ...        0     0        0   \n",
            "3         2011  english     usa   14000000.0  ...        0     0        0   \n",
            "4         2013  english     usa  225000000.0  ...        0     0        0   \n",
            "6         2012  english     usa  180000000.0  ...        0     0        0   \n",
            "8         2012  english     usa  220000000.0  ...        0     0        0   \n",
            "9         2012  english     usa  220000000.0  ...        0     0        0   \n",
            "11        2011  english     usa   90000000.0  ...        0     0        0   \n",
            "13        2014  english     usa  165000000.0  ...        0     0        0   \n",
            "\n",
            "    mystery  romance  sci-fi  sport  thriller  war  western  \n",
            "0         0        0       0      0         0    0        0  \n",
            "1         0        0       1      0         0    0        0  \n",
            "2         1        0       0      0         1    0        1  \n",
            "3         0        0       0      0         0    0        0  \n",
            "4         0        0       0      0         0    0        0  \n",
            "6         0        0       0      0         0    0        0  \n",
            "8         0        0       1      0         0    0        0  \n",
            "9         0        0       1      0         0    0        0  \n",
            "11        1        0       0      0         1    0        0  \n",
            "13        0        0       1      0         0    0        0  \n",
            "\n",
            "[10 rows x 30 columns]\n"
          ]
        }
      ]
    },
    {
      "cell_type": "code",
      "source": [
        "# cek banyaknya missing value pada masing-masing kolom, setelah semua proses\n",
        "print(df.isnull().sum())"
      ],
      "metadata": {
        "colab": {
          "base_uri": "https://localhost:8080/"
        },
        "id": "tQkyl9jteegl",
        "outputId": "184beda7-fa94-4923-d6d8-95e11ac686ff"
      },
      "execution_count": 292,
      "outputs": [
        {
          "output_type": "stream",
          "name": "stdout",
          "text": [
            "color                   0\n",
            "director_name           0\n",
            "duration                0\n",
            "gross                   0\n",
            "genres                  0\n",
            "movie_title             0\n",
            "title_year              0\n",
            "language                0\n",
            "country                 0\n",
            "budget                  0\n",
            "imdb_score              0\n",
            "actors                  0\n",
            "movie_facebook_likes    0\n",
            "dtype: int64\n"
          ]
        }
      ]
    },
    {
      "cell_type": "markdown",
      "source": [
        "**5. Penyimpanan Data**"
      ],
      "metadata": {
        "id": "_cp6vKuVfNy4"
      }
    },
    {
      "cell_type": "code",
      "source": [
        "#Menyimpan data yang telah diproses ke dalam file CSV baru\n",
        "df_ohe.to_csv('movie_dataset_cleaned.csv')"
      ],
      "metadata": {
        "id": "jBqcWN1tVl5N"
      },
      "execution_count": 293,
      "outputs": []
    }
  ]
}